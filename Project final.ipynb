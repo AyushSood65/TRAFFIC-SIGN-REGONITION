{
 "cells": [
  {
   "cell_type": "code",
   "execution_count": 1,
   "metadata": {},
   "outputs": [],
   "source": [
    "import os\n",
    "import numpy as np\n",
    "import pandas as pd\n",
    "import matplotlib.pyplot as plt\n",
    "from PIL import Image"
   ]
  },
  {
   "cell_type": "code",
   "execution_count": 2,
   "metadata": {},
   "outputs": [
    {
     "name": "stderr",
     "output_type": "stream",
     "text": [
      "Using TensorFlow backend.\n"
     ]
    }
   ],
   "source": [
    "import tensorflow as tf\n",
    "from keras.utils import to_categorical\n",
    "from keras.models import Sequential\n",
    "from keras.layers import Convolution2D\n",
    "from keras.layers import MaxPooling2D\n",
    "from keras.layers import Flatten\n",
    "from keras.layers import Dense"
   ]
  },
  {
   "cell_type": "code",
   "execution_count": 3,
   "metadata": {},
   "outputs": [],
   "source": [
    "X=[]\n",
    "Y=[]\n",
    "total_class=43\n",
    "cur_directory=os.getcwd()"
   ]
  },
  {
   "cell_type": "code",
   "execution_count": 4,
   "metadata": {},
   "outputs": [
    {
     "data": {
      "text/plain": [
       "'C:\\\\Users\\\\DELLS\\\\Downloads\\\\ProjectDataset'"
      ]
     },
     "execution_count": 4,
     "metadata": {},
     "output_type": "execute_result"
    }
   ],
   "source": [
    "cur_directory"
   ]
  },
  {
   "cell_type": "code",
   "execution_count": 5,
   "metadata": {},
   "outputs": [
    {
     "name": "stdout",
     "output_type": "stream",
     "text": [
      "(39209, 30, 30, 3) (39209,)\n"
     ]
    }
   ],
   "source": [
    "#The dataset has folders from 0–42 i.e. 43 classes\n",
    "for index in range(total_class):\n",
    "  path = os.path.join(cur_directory,'train',str(index))\n",
    "  images = os.listdir(path)\n",
    "    \n",
    "#iterating on all the images of the index folder\n",
    "  for img in images:\n",
    "    try:\n",
    "      image = Image.open(path + '\\\\'+ img)\n",
    "      image = image.resize((30,30))\n",
    "      image = np.array(image)\n",
    "      X.append(image)\n",
    "      Y.append(index)\n",
    "    except:\n",
    "        print('Error loading image')\n",
    "X = np.array(X)\n",
    "Y = np.array(Y)\n",
    "print(X.shape, Y.shape)"
   ]
  },
  {
   "cell_type": "code",
   "execution_count": 6,
   "metadata": {},
   "outputs": [],
   "source": [
    "from sklearn.model_selection import train_test_split\n",
    "X_train,X_test,Y_train,Y_test=train_test_split(X,Y,test_size=0.2,random_state=0)"
   ]
  },
  {
   "cell_type": "code",
   "execution_count": 7,
   "metadata": {},
   "outputs": [
    {
     "name": "stdout",
     "output_type": "stream",
     "text": [
      "Shape of X_train=  (31367, 30, 30, 3) Shape of Y_train= (31367,)\n"
     ]
    }
   ],
   "source": [
    "print(\"Shape of X_train= \",X_train.shape,'Shape of Y_train=',Y_train.shape)"
   ]
  },
  {
   "cell_type": "code",
   "execution_count": 8,
   "metadata": {},
   "outputs": [
    {
     "name": "stdout",
     "output_type": "stream",
     "text": [
      "Shape of X_test=  (7842, 30, 30, 3) Shape of Y_test= (7842,)\n"
     ]
    }
   ],
   "source": [
    "print(\"Shape of X_test= \",X_test.shape,'Shape of Y_test=',Y_test.shape)"
   ]
  },
  {
   "cell_type": "code",
   "execution_count": 9,
   "metadata": {},
   "outputs": [],
   "source": [
    "#doing labels one hot encoding \n",
    "Y_train = to_categorical(Y_train, 43)\n",
    "Y_test = to_categorical(Y_test, 43)"
   ]
  },
  {
   "cell_type": "code",
   "execution_count": 10,
   "metadata": {},
   "outputs": [],
   "source": [
    "# making the CNN model with 2 Convolutional 2D layers\n",
    "classifier=Sequential()"
   ]
  },
  {
   "cell_type": "code",
   "execution_count": 11,
   "metadata": {},
   "outputs": [],
   "source": [
    "# aading the first convo layer\n",
    "classifier.add(Convolution2D(filters=32, kernel_size=(5,5), activation='relu', input_shape=X_train.shape[1:]))"
   ]
  },
  {
   "cell_type": "code",
   "execution_count": 12,
   "metadata": {},
   "outputs": [],
   "source": [
    "# adding the 2nd layer \n",
    "classifier.add(Convolution2D(filters=32, kernel_size=(5,5), activation='relu'))"
   ]
  },
  {
   "cell_type": "code",
   "execution_count": 13,
   "metadata": {},
   "outputs": [],
   "source": [
    "# adding the MAxPooling Layer\n",
    "classifier.add(MaxPooling2D(pool_size=(2,2)))"
   ]
  },
  {
   "cell_type": "code",
   "execution_count": 14,
   "metadata": {},
   "outputs": [],
   "source": [
    "# adding dropou layer\n",
    "from keras.layers import Dropout\n",
    "classifier.add(Dropout(rate=0.25))\n"
   ]
  },
  {
   "cell_type": "code",
   "execution_count": 15,
   "metadata": {},
   "outputs": [],
   "source": [
    "# adding 2 Convo layers again\n",
    "classifier.add(Convolution2D(filters=64, kernel_size=(3, 3), activation='relu'))\n",
    "classifier.add(Convolution2D(filters=64, kernel_size=(3, 3), activation='relu'))\n"
   ]
  },
  {
   "cell_type": "code",
   "execution_count": 16,
   "metadata": {},
   "outputs": [],
   "source": [
    "# addig the MAxPooling layer\n",
    "classifier.add(MaxPooling2D(pool_size=(2, 2)))\n"
   ]
  },
  {
   "cell_type": "code",
   "execution_count": 17,
   "metadata": {},
   "outputs": [],
   "source": [
    "# adding dropuot\n",
    "classifier.add(Dropout(rate=0.25))\n"
   ]
  },
  {
   "cell_type": "code",
   "execution_count": 18,
   "metadata": {},
   "outputs": [],
   "source": [
    "#adding the Flatten layer\n",
    "classifier.add(Flatten())"
   ]
  },
  {
   "cell_type": "code",
   "execution_count": 19,
   "metadata": {},
   "outputs": [],
   "source": [
    "# full coonectio layer\n",
    "classifier.add(Dense(256, activation='relu'))\n",
    "classifier.add(Dropout(rate=0.5))\n",
    "classifier.add(Dense(43, activation='softmax'))"
   ]
  },
  {
   "cell_type": "code",
   "execution_count": 20,
   "metadata": {},
   "outputs": [],
   "source": [
    "# cnn compilation\n",
    "classifier.compile( optimizer='adam',loss='categorical_crossentropy', metrics=['accuracy'])"
   ]
  },
  {
   "cell_type": "code",
   "execution_count": 21,
   "metadata": {},
   "outputs": [
    {
     "name": "stdout",
     "output_type": "stream",
     "text": [
      "Train on 31367 samples, validate on 7842 samples\n",
      "Epoch 1/15\n",
      "31367/31367 [==============================] - 113s 4ms/step - loss: 2.1999 - accuracy: 0.4878 - val_loss: 0.4021 - val_accuracy: 0.9104\n",
      "Epoch 2/15\n",
      "31367/31367 [==============================] - 113s 4ms/step - loss: 0.5237 - accuracy: 0.8539 - val_loss: 0.1282 - val_accuracy: 0.9682\n",
      "Epoch 3/15\n",
      "31367/31367 [==============================] - 109s 3ms/step - loss: 0.2993 - accuracy: 0.9158 - val_loss: 0.1034 - val_accuracy: 0.9750\n",
      "Epoch 4/15\n",
      "31367/31367 [==============================] - 109s 3ms/step - loss: 0.2221 - accuracy: 0.9389 - val_loss: 0.0751 - val_accuracy: 0.9820\n",
      "Epoch 5/15\n",
      "31367/31367 [==============================] - 113s 4ms/step - loss: 0.1929 - accuracy: 0.9467 - val_loss: 0.0559 - val_accuracy: 0.9856\n",
      "Epoch 6/15\n",
      "31367/31367 [==============================] - 116s 4ms/step - loss: 0.1688 - accuracy: 0.9548 - val_loss: 0.0493 - val_accuracy: 0.9871\n",
      "Epoch 7/15\n",
      "31367/31367 [==============================] - 93s 3ms/step - loss: 0.1587 - accuracy: 0.9567 - val_loss: 0.0545 - val_accuracy: 0.9871\n",
      "Epoch 8/15\n",
      "31367/31367 [==============================] - 87s 3ms/step - loss: 0.1386 - accuracy: 0.9619 - val_loss: 0.0751 - val_accuracy: 0.9792\n",
      "Epoch 9/15\n",
      "31367/31367 [==============================] - 87s 3ms/step - loss: 0.1436 - accuracy: 0.9618 - val_loss: 0.0398 - val_accuracy: 0.9907\n",
      "Epoch 10/15\n",
      "31367/31367 [==============================] - 82s 3ms/step - loss: 0.1392 - accuracy: 0.9633 - val_loss: 0.0441 - val_accuracy: 0.9888\n",
      "Epoch 11/15\n",
      "31367/31367 [==============================] - 81s 3ms/step - loss: 0.1452 - accuracy: 0.9617 - val_loss: 0.0777 - val_accuracy: 0.9806\n",
      "Epoch 12/15\n",
      "31367/31367 [==============================] - 81s 3ms/step - loss: 0.1173 - accuracy: 0.9695 - val_loss: 0.0340 - val_accuracy: 0.9931\n",
      "Epoch 13/15\n",
      "31367/31367 [==============================] - 81s 3ms/step - loss: 0.1206 - accuracy: 0.9694 - val_loss: 0.0583 - val_accuracy: 0.9866\n",
      "Epoch 14/15\n",
      "31367/31367 [==============================] - 84s 3ms/step - loss: 0.1351 - accuracy: 0.9676 - val_loss: 0.0438 - val_accuracy: 0.9895\n",
      "Epoch 15/15\n",
      "31367/31367 [==============================] - 82s 3ms/step - loss: 0.1222 - accuracy: 0.9692 - val_loss: 0.0562 - val_accuracy: 0.9870\n"
     ]
    },
    {
     "ename": "NameError",
     "evalue": "name 'classifer' is not defined",
     "output_type": "error",
     "traceback": [
      "\u001b[1;31m---------------------------------------------------------------------------\u001b[0m",
      "\u001b[1;31mNameError\u001b[0m                                 Traceback (most recent call last)",
      "\u001b[1;32m<ipython-input-21-f04c619d3004>\u001b[0m in \u001b[0;36m<module>\u001b[1;34m\u001b[0m\n\u001b[0;32m      1\u001b[0m \u001b[1;31m# fitting the model\u001b[0m\u001b[1;33m\u001b[0m\u001b[1;33m\u001b[0m\u001b[1;33m\u001b[0m\u001b[0m\n\u001b[0;32m      2\u001b[0m \u001b[0msummary\u001b[0m\u001b[1;33m=\u001b[0m\u001b[0mclassifier\u001b[0m\u001b[1;33m.\u001b[0m\u001b[0mfit\u001b[0m\u001b[1;33m(\u001b[0m\u001b[0mX_train\u001b[0m\u001b[1;33m,\u001b[0m\u001b[0mY_train\u001b[0m\u001b[1;33m,\u001b[0m\u001b[0mbatch_size\u001b[0m\u001b[1;33m=\u001b[0m\u001b[1;36m64\u001b[0m\u001b[1;33m,\u001b[0m\u001b[0mepochs\u001b[0m\u001b[1;33m=\u001b[0m\u001b[1;36m15\u001b[0m\u001b[1;33m,\u001b[0m\u001b[0mvalidation_data\u001b[0m\u001b[1;33m=\u001b[0m\u001b[1;33m(\u001b[0m\u001b[0mX_test\u001b[0m\u001b[1;33m,\u001b[0m\u001b[0mY_test\u001b[0m\u001b[1;33m)\u001b[0m\u001b[1;33m)\u001b[0m\u001b[1;33m\u001b[0m\u001b[1;33m\u001b[0m\u001b[0m\n\u001b[1;32m----> 3\u001b[1;33m \u001b[0mclassifer\u001b[0m\u001b[1;33m.\u001b[0m\u001b[0msave\u001b[0m\u001b[1;33m(\u001b[0m\u001b[1;34m'traffic_regonization.h5'\u001b[0m\u001b[1;33m)\u001b[0m\u001b[1;33m\u001b[0m\u001b[1;33m\u001b[0m\u001b[0m\n\u001b[0m",
      "\u001b[1;31mNameError\u001b[0m: name 'classifer' is not defined"
     ]
    }
   ],
   "source": [
    "# fitting the model\n",
    "summary=classifier.fit(X_train,Y_train,batch_size=64,epochs=15,validation_data=(X_test,Y_test))\n",
    "classifer.save('traffic_regonization.h5')"
   ]
  },
  {
   "cell_type": "code",
   "execution_count": 23,
   "metadata": {},
   "outputs": [],
   "source": [
    "classifier.save('traffic_recognization.h5')"
   ]
  },
  {
   "cell_type": "code",
   "execution_count": 32,
   "metadata": {},
   "outputs": [
    {
     "ename": "AttributeError",
     "evalue": "'History' object has no attribute 'summary'",
     "output_type": "error",
     "traceback": [
      "\u001b[1;31m---------------------------------------------------------------------------\u001b[0m",
      "\u001b[1;31mAttributeError\u001b[0m                            Traceback (most recent call last)",
      "\u001b[1;32m<ipython-input-32-6213ba60941f>\u001b[0m in \u001b[0;36m<module>\u001b[1;34m\u001b[0m\n\u001b[0;32m      1\u001b[0m \u001b[1;31m# visualization\u001b[0m\u001b[1;33m\u001b[0m\u001b[1;33m\u001b[0m\u001b[1;33m\u001b[0m\u001b[0m\n\u001b[0;32m      2\u001b[0m \u001b[0mplt\u001b[0m\u001b[1;33m.\u001b[0m\u001b[0mfigure\u001b[0m\u001b[1;33m(\u001b[0m\u001b[1;36m0\u001b[0m\u001b[1;33m)\u001b[0m\u001b[1;33m\u001b[0m\u001b[1;33m\u001b[0m\u001b[0m\n\u001b[1;32m----> 3\u001b[1;33m \u001b[0mplt\u001b[0m\u001b[1;33m.\u001b[0m\u001b[0mplot\u001b[0m\u001b[1;33m(\u001b[0m\u001b[0msummary\u001b[0m\u001b[1;33m.\u001b[0m\u001b[0msummary\u001b[0m\u001b[1;33m[\u001b[0m\u001b[1;34m'accuracy'\u001b[0m\u001b[1;33m]\u001b[0m\u001b[1;33m,\u001b[0m\u001b[0mlabel\u001b[0m\u001b[1;33m=\u001b[0m\u001b[1;34m'Traing Accuracy'\u001b[0m\u001b[1;33m)\u001b[0m\u001b[1;33m\u001b[0m\u001b[1;33m\u001b[0m\u001b[0m\n\u001b[0m\u001b[0;32m      4\u001b[0m \u001b[0mplt\u001b[0m\u001b[1;33m.\u001b[0m\u001b[0mplot\u001b[0m\u001b[1;33m(\u001b[0m\u001b[0msummary\u001b[0m\u001b[1;33m.\u001b[0m\u001b[0msummary\u001b[0m\u001b[1;33m[\u001b[0m\u001b[1;34m'val_accuracy'\u001b[0m\u001b[1;33m]\u001b[0m\u001b[1;33m,\u001b[0m \u001b[0mlabel\u001b[0m\u001b[1;33m=\u001b[0m\u001b[1;34m'val accuracy'\u001b[0m\u001b[1;33m)\u001b[0m\u001b[1;33m\u001b[0m\u001b[1;33m\u001b[0m\u001b[0m\n\u001b[0;32m      5\u001b[0m \u001b[0mplt\u001b[0m\u001b[1;33m.\u001b[0m\u001b[0mtitle\u001b[0m\u001b[1;33m(\u001b[0m\u001b[1;34m'Accuracy'\u001b[0m\u001b[1;33m)\u001b[0m\u001b[1;33m\u001b[0m\u001b[1;33m\u001b[0m\u001b[0m\n",
      "\u001b[1;31mAttributeError\u001b[0m: 'History' object has no attribute 'summary'"
     ]
    },
    {
     "data": {
      "text/plain": [
       "<Figure size 432x288 with 0 Axes>"
      ]
     },
     "metadata": {},
     "output_type": "display_data"
    }
   ],
   "source": [
    "# visualization\n",
    "plt.figure(0)\n",
    "plt.plot(summary.summary['accuracy'],label='Traing Accuracy')\n",
    "plt.plot(summary.summary['val_accuracy'], label='val accuracy')\n",
    "plt.title('Accuracy')\n",
    "plt.xlabel('epochs')\n",
    "plt.ylabel('accuracy')\n",
    "plt.legend()"
   ]
  },
  {
   "cell_type": "code",
   "execution_count": 2,
   "metadata": {},
   "outputs": [],
   "source": [
    "import tkinter as tk\n",
    "from tkinter import filedialog\n",
    "from tkinter import *\n",
    "from PIL import ImageTk, Image\n",
    "import numpy\n",
    "#load the trained model to classify sign\n",
    "from keras.models import load_model\n",
    "model = load_model(\"traffic_recognization.h5\")\n",
    "#dictionary to label all traffic signs class\n",
    "classes = { 1:'Speed limit (20km/h)',\n",
    "    2:\"Speed limit (30km/h)\",\n",
    "    3:\"Speed limit (50km/h)\",\n",
    "    4:\"Speed limit (60km/h)\",\n",
    "    5:\"Speed limit (70km/h)\",\n",
    "    6:\"Speed limit (80km/h)\",\n",
    "    7:\"End of speed limit (80km/h)\",\n",
    "    8:\"Speed limit (100km/h)\",\n",
    "    9:\"Speed limit (120km/h)\",\n",
    "    10:\"No passing\",\n",
    "    11:\"No passing veh over 3.5 tons\",\n",
    "    12:\"Right-of-way at intersection\",\n",
    "    13:\"Priority road\",\n",
    "    14:\"Yield\",\n",
    "    15:\"Stop\",\n",
    "    16:\"No vehicles\",\n",
    "    17:\"Veh > 3.5 tons prohibited\",\n",
    "    18:\"No entry\",\n",
    "    19:\"General caution\",\n",
    "    20:\"Dangerous curve left\",\n",
    "    21:\"Dangerous curve right\",\n",
    "    22:\"Double curve\",\n",
    "    23:\"Bumpy road\",\n",
    "    24:\"Slippery road\",\n",
    "    25:\"Road narrows on the right\",\n",
    "    26:\"Road work\",\n",
    "    27:\"Traffic signals\",\n",
    "    28:\"Pedestrians\",\n",
    "    29:\"Children crossing\",\n",
    "    30:\"Bicycles crossing\",\n",
    "    31:\"Beware of ice/snow\",\n",
    "    32:\"Wild animals crossing\",\n",
    "    33:\"End speed + passing limits\",\n",
    "    34:\"Turn right ahead\",\n",
    "    35:\"Turn left ahead\",\n",
    "    36:\"Ahead only\",\n",
    "    37:\"Go straight or right\",\n",
    "    38:\"Go straight or left\",\n",
    "    39:\"Keep right\",\n",
    "    40:\"Keep left\",\n",
    "    41:\"Roundabout mandatory\",\n",
    "    42:\"End of no passing\",\n",
    "    43:\"End no passing veh > 3.5 tons\" }\n",
    "def classify(file_path):\n",
    "    image = Image.open(file_path)\n",
    "    image = image.resize((30,30))\n",
    "    image = numpy.expand_dims(image, axis=0)\n",
    "    image = numpy.array(image)\n",
    "    pred = model.predict_classes([image])[0]\n",
    "    sign = classes[pred+1]\n",
    "    print(sign)\n",
    "    result.configure(text=sign)\n",
    "    \n",
    "def show_classify_btn(file_path):\n",
    "    classify_b=Button(top,text=\"Classify Image\",command=lambda: classify(file_path),padx=10,pady=5)\n",
    "    classify_b.configure(bg=\"#364156\", fg='white',font=('arial',10,'bold'))\n",
    "    classify_b.place(relx=0.79,rely=0.46)\n",
    "    \n",
    "def upload_image():\n",
    "  try:\n",
    "    file_path=filedialog.askopenfilename()\n",
    "    uploaded=Image.open(file_path)\n",
    "    uploaded.thumbnail(((top.winfo_width()/2.25),(top.winfo_height()/2.25)))\n",
    "    im=ImageTk.PhotoImage(uploaded)\n",
    "    sign_image.configure(image=im)\n",
    "    sign_image.image=im\n",
    "    result.configure(text='')\n",
    "    show_classify_btn(file_path)\n",
    "  except:\n",
    "    pass\n",
    "         \n",
    "if __name__=='__main__':\n",
    "  #initialise GUI\n",
    "    top=tk.Tk()\n",
    "    top.geometry(\"800x600\")\n",
    "    top.title(\"Traffic sign recognition\")\n",
    "    top.configure(bg='grey')\n",
    "    heading = Label(top, text='Traffic sign recognition',pady=20, font=('arial',20,'bold'))\n",
    "    heading.configure(background='grey',fg='red')\n",
    "    heading.pack()\n",
    "    result=Label(top, font=('arial',15,'bold'))\n",
    "    result.configure(fg='blue',bg='black')\n",
    "    sign_image = Label(top)\n",
    "    upload=Button(top,text=\"Upload an image\",command=upload_image,padx=10,pady=5)\n",
    "    upload.configure(background='#364156', fg=\"white\",font=(\"arial\",10,\"bold\"))\n",
    "    upload.pack(side=BOTTOM,pady=50)\n",
    "    sign_image.pack(side=BOTTOM,expand=True)\n",
    "    result.pack(side=BOTTOM,expand=True)\n",
    "    top.mainloop()"
   ]
  },
  {
   "cell_type": "code",
   "execution_count": null,
   "metadata": {},
   "outputs": [],
   "source": []
  }
 ],
 "metadata": {
  "kernelspec": {
   "display_name": "Python 3",
   "language": "python",
   "name": "python3"
  },
  "language_info": {
   "codemirror_mode": {
    "name": "ipython",
    "version": 3
   },
   "file_extension": ".py",
   "mimetype": "text/x-python",
   "name": "python",
   "nbconvert_exporter": "python",
   "pygments_lexer": "ipython3",
   "version": "3.7.7"
  }
 },
 "nbformat": 4,
 "nbformat_minor": 4
}
